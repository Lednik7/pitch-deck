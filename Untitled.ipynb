{
 "cells": [
  {
   "cell_type": "code",
   "execution_count": 12,
   "id": "ff24ee7b-a0b5-4732-a4b0-bd62c7a3e015",
   "metadata": {},
   "outputs": [
    {
     "name": "stdout",
     "output_type": "stream",
     "text": [
      "huggingface/tokenizers: The current process just got forked, after parallelism has already been used. Disabling parallelism to avoid deadlocks...\n",
      "To disable this warning, you can either:\n",
      "\t- Avoid using `tokenizers` before the fork if possible\n",
      "\t- Explicitly set the environment variable TOKENIZERS_PARALLELISM=(true | false)\n"
     ]
    }
   ],
   "source": [
    "!pip install googletrans==3.1.0a0 -q"
   ]
  },
  {
   "cell_type": "code",
   "execution_count": 2,
   "id": "67b33e4e-1105-40b4-9e06-545487dc8229",
   "metadata": {},
   "outputs": [],
   "source": [
    "from googletrans import Translator\n",
    "translator = Translator()"
   ]
  },
  {
   "cell_type": "code",
   "execution_count": 3,
   "id": "5bb8c8a5-21e5-414b-93d7-822fe8aaa662",
   "metadata": {},
   "outputs": [],
   "source": [
    "def get_translation(text, dest='en'):\n",
    "    return translator.translate(text, dest=dest).text"
   ]
  },
  {
   "cell_type": "code",
   "execution_count": 4,
   "id": "5edd6d3a-a558-4c27-87ff-2fa090341d8d",
   "metadata": {},
   "outputs": [],
   "source": [
    "# import torch\n",
    "# from transformers import pipeline\n",
    "\n",
    "# generate_text = pipeline(\n",
    "#     model=\"PAIXAI/Astrid-1B-CPU\",\n",
    "#     torch_dtype=\"auto\",\n",
    "#     trust_remote_code=True,\n",
    "#     use_fast=True,\n",
    "#     device_map={\"\": \"cuda\"},\n",
    "# )"
   ]
  },
  {
   "cell_type": "code",
   "execution_count": 5,
   "id": "8198cbb2-723f-4b94-9334-ab6e0b3ebd0d",
   "metadata": {},
   "outputs": [],
   "source": [
    "# res = generate_text(\n",
    "#     f\"\"\"If text if more than {400} symbols long to summurize it into one paragraph as problem: {get_translation('Большое количество электронных отходов из-за неработающих и поврежденных зарядных устройств для смартфонов.')}\"\"\",\n",
    "#     min_new_tokens=2,\n",
    "#     max_new_tokens=256,\n",
    "# )\n",
    "# print(get_translation(res[0][\"generated_text\"], dest='ru'))"
   ]
  },
  {
   "cell_type": "code",
   "execution_count": 14,
   "id": "1917040f-4548-4d61-81eb-0fd7e231e9b5",
   "metadata": {
    "collapsed": true,
    "jupyter": {
     "outputs_hidden": true
    }
   },
   "outputs": [
    {
     "name": "stdout",
     "output_type": "stream",
     "text": [
      "huggingface/tokenizers: The current process just got forked, after parallelism has already been used. Disabling parallelism to avoid deadlocks...\n",
      "To disable this warning, you can either:\n",
      "\t- Avoid using `tokenizers` before the fork if possible\n",
      "\t- Explicitly set the environment variable TOKENIZERS_PARALLELISM=(true | false)\n",
      "Collecting gradio_client\n",
      "  Downloading gradio_client-0.5.0-py3-none-any.whl (298 kB)\n",
      "\u001b[2K     \u001b[90m━━━━━━━━━━━━━━━━━━━━━━━━━━━━━━━━━━━━━━━\u001b[0m \u001b[32m298.2/298.2 kB\u001b[0m \u001b[31m2.0 MB/s\u001b[0m eta \u001b[36m0:00:00\u001b[0m00:01\u001b[0m00:01\u001b[0m\n",
      "\u001b[?25hRequirement already satisfied: fsspec in ./miniconda3/lib/python3.11/site-packages (from gradio_client) (2023.6.0)\n",
      "Requirement already satisfied: httpx in ./miniconda3/lib/python3.11/site-packages (from gradio_client) (0.13.3)\n",
      "Requirement already satisfied: huggingface-hub>=0.13.0 in ./miniconda3/lib/python3.11/site-packages (from gradio_client) (0.16.4)\n",
      "Requirement already satisfied: packaging in ./miniconda3/lib/python3.11/site-packages (from gradio_client) (23.0)\n",
      "Requirement already satisfied: requests~=2.0 in ./miniconda3/lib/python3.11/site-packages (from gradio_client) (2.29.0)\n",
      "Requirement already satisfied: typing-extensions~=4.0 in ./miniconda3/lib/python3.11/site-packages (from gradio_client) (4.4.0)\n",
      "Collecting websockets<12.0,>=10.0 (from gradio_client)\n",
      "  Downloading websockets-11.0.3-cp311-cp311-manylinux_2_5_x86_64.manylinux1_x86_64.manylinux_2_17_x86_64.manylinux2014_x86_64.whl (130 kB)\n",
      "\u001b[2K     \u001b[90m━━━━━━━━━━━━━━━━━━━━━━━━━━━━━━━━━━━━━━\u001b[0m \u001b[32m130.6/130.6 kB\u001b[0m \u001b[31m14.6 MB/s\u001b[0m eta \u001b[36m0:00:00\u001b[0m\n",
      "\u001b[?25hRequirement already satisfied: filelock in ./miniconda3/lib/python3.11/site-packages (from huggingface-hub>=0.13.0->gradio_client) (3.9.0)\n",
      "Requirement already satisfied: tqdm>=4.42.1 in ./miniconda3/lib/python3.11/site-packages (from huggingface-hub>=0.13.0->gradio_client) (4.65.0)\n",
      "Requirement already satisfied: pyyaml>=5.1 in ./miniconda3/lib/python3.11/site-packages (from huggingface-hub>=0.13.0->gradio_client) (6.0.1)\n",
      "Requirement already satisfied: charset-normalizer<4,>=2 in ./miniconda3/lib/python3.11/site-packages (from requests~=2.0->gradio_client) (2.0.4)\n",
      "Requirement already satisfied: idna<4,>=2.5 in ./miniconda3/lib/python3.11/site-packages (from requests~=2.0->gradio_client) (2.10)\n",
      "Requirement already satisfied: urllib3<1.27,>=1.21.1 in ./miniconda3/lib/python3.11/site-packages (from requests~=2.0->gradio_client) (1.26.16)\n",
      "Requirement already satisfied: certifi>=2017.4.17 in ./miniconda3/lib/python3.11/site-packages (from requests~=2.0->gradio_client) (2023.5.7)\n",
      "Requirement already satisfied: hstspreload in ./miniconda3/lib/python3.11/site-packages (from httpx->gradio_client) (2023.1.1)\n",
      "Requirement already satisfied: sniffio in ./miniconda3/lib/python3.11/site-packages (from httpx->gradio_client) (1.3.0)\n",
      "Requirement already satisfied: chardet==3.* in ./miniconda3/lib/python3.11/site-packages (from httpx->gradio_client) (3.0.4)\n",
      "Requirement already satisfied: rfc3986<2,>=1.3 in ./miniconda3/lib/python3.11/site-packages (from httpx->gradio_client) (1.5.0)\n",
      "Requirement already satisfied: httpcore==0.9.* in ./miniconda3/lib/python3.11/site-packages (from httpx->gradio_client) (0.9.1)\n",
      "Requirement already satisfied: h11<0.10,>=0.8 in ./miniconda3/lib/python3.11/site-packages (from httpcore==0.9.*->httpx->gradio_client) (0.9.0)\n",
      "Requirement already satisfied: h2==3.* in ./miniconda3/lib/python3.11/site-packages (from httpcore==0.9.*->httpx->gradio_client) (3.2.0)\n",
      "Requirement already satisfied: hyperframe<6,>=5.2.0 in ./miniconda3/lib/python3.11/site-packages (from h2==3.*->httpcore==0.9.*->httpx->gradio_client) (5.2.0)\n",
      "Requirement already satisfied: hpack<4,>=3.0 in ./miniconda3/lib/python3.11/site-packages (from h2==3.*->httpcore==0.9.*->httpx->gradio_client) (3.0.0)\n",
      "Installing collected packages: websockets, gradio_client\n",
      "Successfully installed gradio_client-0.5.0 websockets-11.0.3\n"
     ]
    }
   ],
   "source": [
    "!pip install gradio_client"
   ]
  },
  {
   "cell_type": "code",
   "execution_count": 6,
   "id": "e1ab3f55-e990-4ab9-b6ca-391942dca671",
   "metadata": {},
   "outputs": [
    {
     "name": "stderr",
     "output_type": "stream",
     "text": [
      "/home/pitch/miniconda3/lib/python3.11/site-packages/tqdm/auto.py:21: TqdmWarning: IProgress not found. Please update jupyter and ipywidgets. See https://ipywidgets.readthedocs.io/en/stable/user_install.html\n",
      "  from .autonotebook import tqdm as notebook_tqdm\n"
     ]
    }
   ],
   "source": [
    "from gradio_client import Client"
   ]
  },
  {
   "cell_type": "code",
   "execution_count": 7,
   "id": "50e46ef6-d6ae-4356-ab49-3a75037dc7f5",
   "metadata": {},
   "outputs": [],
   "source": [
    "def shorten_text(text, max_length):\n",
    "    # If the text is already shorter than or equal to the max_length, return it as is\n",
    "    if len(text) <= max_length:\n",
    "        return text\n",
    "\n",
    "    # Split the text into sentences\n",
    "    sentences = text.split(\". \")\n",
    "    \n",
    "    # Iteratively append sentences to the shortened text until the max_length is reached\n",
    "    shortened_text = \"\"\n",
    "    for sentence in sentences:\n",
    "        if len(shortened_text + sentence) + 1 <= max_length:  # +1 for the period\n",
    "            shortened_text += sentence + \". \"\n",
    "        else:\n",
    "            break\n",
    "\n",
    "    # Return the shortened text without the trailing space\n",
    "    return shortened_text.strip()"
   ]
  },
  {
   "cell_type": "markdown",
   "id": "f718980e-0c81-448a-8df6-60f3cbba6f88",
   "metadata": {},
   "source": [
    "### 2nd slide"
   ]
  },
  {
   "cell_type": "code",
   "execution_count": 8,
   "id": "a0285d97-92b5-4035-b68e-cb378e967d88",
   "metadata": {},
   "outputs": [
    {
     "name": "stdout",
     "output_type": "stream",
     "text": [
      "Loaded as API: https://ysharma-explore-llamav2-with-tgi.hf.space/ ✔\n"
     ]
    },
    {
     "data": {
      "text/plain": [
       "'Неправильная утилизация электронных отходов, особенно сломанных и поврежденных зарядных устройств для смартфонов, стала серьезной проблемой во всем мире. Постоянная замена этих зарядных устройств из-за повреждения или устаревания приводит к образованию большого количества электронных отходов, которые часто попадают на свалки или сжигаются, выделяя вредные химические вещества в окружающую среду.'"
      ]
     },
     "execution_count": 8,
     "metadata": {},
     "output_type": "execute_result"
    }
   ],
   "source": [
    "client = Client(\"https://ysharma-explore-llamav2-with-tgi.hf.space/\")\n",
    "\n",
    "result = client.predict(\n",
    "\t\t\t\tf\"\"\"'{get_translation('Большое количество электронных отходов из-за неработающих и поврежденных зарядных устройств для смартфонов.')}' - write paragraph about the problem; return only asked text without special tokens, quotes and info about number of chars\"\"\",\t\n",
    "\t\t\t\tapi_name=\"/chat\"\n",
    ")\n",
    "result = get_translation(result, dest='ru').replace('«', '').replace('»', '').replace('</s>', '').split('(')[0]\n",
    "shorten_text(result, 400)"
   ]
  },
  {
   "cell_type": "markdown",
   "id": "0df738fe-c96b-4824-842d-8ce0983fc88e",
   "metadata": {},
   "source": [
    "### 3rd slide"
   ]
  },
  {
   "cell_type": "code",
   "execution_count": 9,
   "id": "23f4aa03-481b-404e-b882-8b7237889646",
   "metadata": {},
   "outputs": [
    {
     "name": "stdout",
     "output_type": "stream",
     "text": [
      "Loaded as API: https://ysharma-explore-llamav2-with-tgi.hf.space/ ✔\n"
     ]
    },
    {
     "data": {
      "text/plain": [
       "('Идея нашего стартапа — создать экологичное и долговечное зарядное устройство для мобильных телефонов, которое сократит количество электронных отходов и будет способствовать устойчивому развитию.',\n",
       " 'Мы хотим создать продукт, который не только заряжает ваш телефон, но и помогает окружающей среде. Мы считаем, что небольшие изменения в нашей повседневной жизни могут оказать существенное влияние на планету.')"
      ]
     },
     "execution_count": 9,
     "metadata": {},
     "output_type": "execute_result"
    }
   ],
   "source": [
    "client = Client(\"https://ysharma-explore-llamav2-with-tgi.hf.space/\")\n",
    "result = client.predict(\n",
    "\t\t\t\tf\"\"\"write two paragraphs('our startup idea', 'what we want to do') based on this - {get_translation('EcoCharge Mobile предлагает экологически устойчивое, долговечное и модульное зарядное устройство для мобильных телефонов. Вместо покупки нового зарядного устройства при незначительном повреждении, пользователи могут заменить только поврежденную часть.')} return only text without special tokens, quotes and info about number of chars\"\"\",\t\n",
    "\t\t\t\tapi_name=\"/chat\"\n",
    ")\n",
    "result1, result2 = get_translation(result, dest='ru').replace('«', '').replace('»', '').replace('</s>', '').split('(')[0].split('\\n\\n')\n",
    "result1, result2 = shorten_text(result1, 250), shorten_text(result2, 250)\n",
    "result1, result2"
   ]
  },
  {
   "cell_type": "markdown",
   "id": "8d01c66a-3c30-4eed-9c32-5c5735e63de7",
   "metadata": {},
   "source": [
    "### 4th slide"
   ]
  },
  {
   "cell_type": "code",
   "execution_count": 10,
   "id": "02b04a03-68f9-46de-a2e3-b9f827b41c0b",
   "metadata": {},
   "outputs": [
    {
     "name": "stdout",
     "output_type": "stream",
     "text": [
      "Loaded as API: https://ysharma-explore-llamav2-with-tgi.hf.space/ ✔\n"
     ]
    },
    {
     "data": {
      "text/plain": [
       "('Модульная конструкция — это разумный подход к созданию устройства, способного выдержать суровые условия частого использования и путешествий.',\n",
       " 'Помимо модульной конструкции, использование износостойких материалов позволяет еще больше продлить срок службы устройства.',\n",
       " 'Наконец, реализация программы возврата поврежденных компонентов может помочь гарантировать ответственную переработку устройства по истечении его срока службы.')"
      ]
     },
     "execution_count": 10,
     "metadata": {},
     "output_type": "execute_result"
    }
   ],
   "source": [
    "client = Client(\"https://ysharma-explore-llamav2-with-tgi.hf.space/\")\n",
    "result = client.predict(\n",
    "\t\t\t\tf\"\"\"return only asked text; write three paragraphs(split the solution idea) based on this - '{get_translation('Решение: Модульная конструкция, где каждая часть (кабель, адаптер, USB-разъем) может быть заменена отдельно. Использование устойчивых к износу материалов для увеличения срока службы устройства. Программа возврата для поврежденных компонентов с последующей переработкой.')}' - return only asked text without special tokens, emojies, quotes and info about number of chars\"\"\",\t\n",
    "\t\t\t\tapi_name=\"/chat\"\n",
    ")\n",
    "result1, result2, result3 = get_translation(result, dest='ru').replace('«', '').replace('»', '').replace('</s>', '').replace('Конечно, вот три абзаца, основанные на данной идее решения:\\n\\n', '').split('(')[0].split('\\n\\n')\n",
    "result1, result2, result3 = shorten_text(result1, 175), shorten_text(result2, 175), shorten_text(result3, 175)\n",
    "result1, result2, result3"
   ]
  },
  {
   "cell_type": "code",
   "execution_count": 11,
   "id": "be23040e-f030-4f23-8de3-b68dee2e459d",
   "metadata": {},
   "outputs": [
    {
     "name": "stdout",
     "output_type": "stream",
     "text": [
      "Loaded as API: https://ysharma-explore-llamav2-with-tgi.hf.space/ ✔\n",
      "Модульные чудеса\n",
      "Надежные устройства\n",
      "Экологичная технология\n"
     ]
    }
   ],
   "source": [
    "client = Client(\"https://ysharma-explore-llamav2-with-tgi.hf.space/\")\n",
    "result1 = client.predict(\n",
    "\t\t\t\tf\"\"\"write 2-words title based on this - '{get_translation(result1)}'\"\"\",\t\n",
    "\t\t\t\tapi_name=\"/chat\"\n",
    ")\n",
    "result1 = get_translation(result1, dest='ru').replace('«', '').replace('»', '').replace('</s>', '').split('(')[0].split('\\n\\n')[0]\n",
    "print(result1)\n",
    "\n",
    "result2 = client.predict(\n",
    "\t\t\t\tf\"\"\"write 2-words title based on this - '{get_translation(result2)}'\"\"\",\t\n",
    "\t\t\t\tapi_name=\"/chat\"\n",
    ")\n",
    "result2 = get_translation(result2, dest='ru').replace('«', '').replace('»', '').replace('</s>', '').split('(')[0].split('\\n\\n')[0]\n",
    "print(result2)\n",
    "\n",
    "result3 = client.predict(\n",
    "\t\t\t\tf\"\"\"write 2-words title based on this - '{get_translation(result3)}'\"\"\",\t\n",
    "\t\t\t\tapi_name=\"/chat\"\n",
    ")\n",
    "result3 = get_translation(result3, dest='ru').replace('«', '').replace('»', '').replace('</s>', '').split('(')[0].split('\\n\\n')[0]\n",
    "print(result3)"
   ]
  },
  {
   "cell_type": "markdown",
   "id": "6560fe2a-2068-4c2f-8bf4-5804c7652daf",
   "metadata": {},
   "source": [
    "### 5th slide"
   ]
  },
  {
   "cell_type": "code",
   "execution_count": 55,
   "id": "501c7a34-7d83-480d-9cd3-d1d65e7ceb94",
   "metadata": {},
   "outputs": [
    {
     "name": "stdout",
     "output_type": "stream",
     "text": [
      "Loaded as API: https://ysharma-explore-llamav2-with-tgi.hf.space/ ✔\n"
     ]
    },
    {
     "data": {
      "text/plain": [
       "'Важно отметить, что рынок смартфонов постоянно растет, а вместе с ним и потребность в надежных зарядных устройствах. В результате растет спрос на устойчивые и долговечные решения для зарядки, способные удовлетворить потребности растущего числа используемых смартфонов.Объем необходимых инвестиций и куда будут направлены средств:\\n    Необходимая сумма: $500 000.\\n    Производство и материалы: $300 000\\n    Маркетинг и продажи: $100 000\\n    Исследования и разработка: $50 000\\n    Зарплаты и административные расходы: $50 000'"
      ]
     },
     "execution_count": 55,
     "metadata": {},
     "output_type": "execute_result"
    }
   ],
   "source": [
    "client = Client(\"https://ysharma-explore-llamav2-with-tgi.hf.space/\")\n",
    "result = client.predict(\n",
    "\t\t\t\tf\"\"\"return only asked text; write three paragraphs based on this and try to convince that it's important, but don't use any numbers- '{get_translation('Рынок: С каждым годом количество смартфонов увеличивается, и потребность в надежных зарядных устройствах растет. EcoCharge Mobile предлагает решение для тех, кто хочет экономить и снижать экологический след, предоставляя долговечное и устойчивое решение.')}' - return only asked text without special tokens, emojies, quotes and info about number of chars\"\"\",\t\n",
    "\t\t\t\tapi_name=\"/chat\"\n",
    ")\n",
    "result1, result2, result3 = get_translation(result, dest='ru').replace('«', '').replace('»', '').replace('</s>', '').replace('Конечно, вот три абзаца, основанные на данной идее решения:\\n\\n', '').split('(')[0].split('\\n\\n')\n",
    "result1, result2, result3 = shorten_text(result1, 400), shorten_text(result2, 400), shorten_text(result3, 400)\n",
    "q = \"\"\"Объем необходимых инвестиций и куда будут направлены средств:\n",
    "    Необходимая сумма: $500 000.\n",
    "    Производство и материалы: $300 000\n",
    "    Маркетинг и продажи: $100 000\n",
    "    Исследования и разработка: $50 000\n",
    "    Зарплаты и административные расходы: $50 000\"\"\"\n",
    "result1 += q\n",
    "result2 += q\n",
    "result3 += q\n",
    "result1"
   ]
  },
  {
   "cell_type": "code",
   "execution_count": 64,
   "id": "f4716ff4-4908-4066-b979-fe7469ae4daf",
   "metadata": {},
   "outputs": [
    {
     "name": "stdout",
     "output_type": "stream",
     "text": [
      "Loaded as API: https://ysharma-explore-llamav2-with-tgi.hf.space/ ✔\n"
     ]
    },
    {
     "data": {
      "text/plain": [
       "'Дамы и господа, поскольку мы продолжаем развиваться в эпоху цифровых технологий, нельзя отрицать, что смартфоны стали неотъемлемой частью нашей повседневной жизни. Учитывая постоянную необходимость оставаться на связи, мы наблюдаем значительный рост числа используемых смартфонов. используются каждый год. Однако такой всплеск использования также влечет за собой растущий спрос на надежные зарядные устройства. Именно здесь на помощь приходит EcoCharge Mobile, предлагающий решение, которое не только экономит ваши деньги, но и помогает уменьшить воздействие на окружающую среду. Наши надежные и экологичные зарядные устройства предназначены для того, чтобы предоставить вам возможность беззаботной зарядки, а также внести свой вклад в защиту планеты для будущих поколений. Так зачем ждать? Переключитесь на EcoCharge Mobile сегодня и присоединяйтесь к нам в нашей миссии по обеспечению более устойчивого будущего. \"'"
      ]
     },
     "execution_count": 64,
     "metadata": {},
     "output_type": "execute_result"
    }
   ],
   "source": [
    "client = Client(\"https://ysharma-explore-llamav2-with-tgi.hf.space/\")\n",
    "result = client.predict(\n",
    "\t\t\t\tf\"\"\"return only asked text; write a beautiful wondeful speech for this text on this slide (it fifth in your presentation, don't use any greetings) - '{get_translation('Рынок: С каждым годом количество смартфонов увеличивается, и потребность в надежных зарядных устройствах растет. EcoCharge Mobile предлагает решение для тех, кто хочет экономить и снижать экологический след, предоставляя долговечное и устойчивое решение.')}' - return only asked text without special tokens, emojies, quotes and info about number of chars\"\"\",\t\n",
    "\t\t\t\tapi_name=\"/chat\"\n",
    ")\n",
    "result = get_translation(result, dest='ru').replace('«', '').replace('»', '').replace('</s>', '').split('(')[0].replace('\\n\\n', ' ')\n",
    "result = result[result.index(':')+2:]\n",
    "result"
   ]
  },
  {
   "cell_type": "markdown",
   "id": "197a7f72-f764-42d4-a0a4-79f83c2a5ea0",
   "metadata": {},
   "source": [
    "### 6th slide"
   ]
  },
  {
   "cell_type": "code",
   "execution_count": 59,
   "id": "6c53eabd-93bf-4753-901a-8f8f56037865",
   "metadata": {},
   "outputs": [
    {
     "name": "stdout",
     "output_type": "stream",
     "text": [
      "Loaded as API: https://ysharma-explore-llamav2-with-tgi.hf.space/ ✔\n"
     ]
    },
    {
     "data": {
      "text/plain": [
       "'Цели проекта, сроки: * Начало производства и первая партия в течение 6 месяцев. * Достижение 10 000 проданных единиц в течение первого года. * Расширение линейки продуктов в течение 18 месяцев. Важно отметить, что эти цели и сроки являются конкретными, измеримыми, достижимыми, актуальными и ограниченными по времени'"
      ]
     },
     "execution_count": 59,
     "metadata": {},
     "output_type": "execute_result"
    }
   ],
   "source": [
    "client = Client(\"https://ysharma-explore-llamav2-with-tgi.hf.space/\")\n",
    "result = client.predict(\n",
    "\t\t\t\tf\"\"\"return only asked text;  tell why it is important, please use all numbers- '{get_translation('Цели проекта, дедлайны: Запуск производства и первая партия в течение 6 месяцев. Достижение 10 000 проданных единиц в течение первого года. Расширение линейки продукции в течение 18 месяцев.')}' - return only asked text without special tokens, emojies, quotes and info about number of chars\"\"\",\t\n",
    "\t\t\t\tapi_name=\"/chat\"\n",
    ")\n",
    "result = ' '.join([x for x in get_translation(result, dest='ru').replace('«', '').replace('»', '').replace('</s>', '').replace('Конечно, вот запрошенная информация:', '').split('(')[0].replace('\\n', ' ').split() if len(x) > 0])\n",
    "result"
   ]
  },
  {
   "cell_type": "code",
   "execution_count": 67,
   "id": "31a25bb2-d41e-4215-8ca9-568d91be7e27",
   "metadata": {},
   "outputs": [
    {
     "name": "stdout",
     "output_type": "stream",
     "text": [
      "Loaded as API: https://ysharma-explore-llamav2-with-tgi.hf.space/ ✔\n"
     ]
    },
    {
     "data": {
      "text/plain": [
       "'Дамы и господа, уважаемые коллеги и почетные гости, я рад представить вам цели и сроки реализации нашего проекта. Мы стремимся достичь следующих этапов: запуск производства и поставка первой партии в течение следующих шести месяцев, реализация 10 000 единиц продукции. в течение первого года и расширение линейки продуктов в течение 18 месяцев. Эти амбициозные цели демонстрируют нашу приверженность предоставлению высококачественной продукции и исключительному обслуживанию клиентов. Мы понимаем важность своевременного исполнения и неустанно работаем над тем, чтобы уложиться в эти сроки. Наша команда проделала бесчисленные часы напряженной работы, и мы уверены, что наши усилия окупятся. Мы постоянно оцениваем и совершенствуем наши процессы, чтобы гарантировать, что мы работаем эффективно и результативно. Мы считаем, что наша линейка продуктов может произвести революцию в отрасли, и мы рады вывести ее на рынок. Мы уверены, что благодаря вашей поддержке и доверию мы сможем достичь этих целей и продолжать внедрять инновации в ближайшие годы. Спасибо за ваше'"
      ]
     },
     "execution_count": 67,
     "metadata": {},
     "output_type": "execute_result"
    }
   ],
   "source": [
    "client = Client(\"https://ysharma-explore-llamav2-with-tgi.hf.space/\")\n",
    "result = client.predict(\n",
    "\t\t\t\tf\"\"\"return only asked text; write a beautiful wondeful speech for this text on this slide (it sixth in your presentation, don't use any greetings) - '{get_translation('Цели проекта, дедлайны: Запуск производства и первая партия в течение 6 месяцев. Достижение 10 000 проданных единиц в течение первого года. Расширение линейки продукции в течение 18 месяцев.')}' - return only asked text without special tokens, emojies, quotes and info about number of chars\"\"\",\t\n",
    "\t\t\t\tapi_name=\"/chat\"\n",
    ")\n",
    "result = get_translation(result, dest='ru').replace('«', '').replace('»', '').replace('</s>', '').split('(')[0].replace('\\n\\n', ' ')\n",
    "result = result[result.index(':')+2:]\n",
    "result"
   ]
  },
  {
   "cell_type": "code",
   "execution_count": 69,
   "id": "c8622d6b-1525-4254-aec0-23a24cf4a946",
   "metadata": {},
   "outputs": [
    {
     "name": "stdout",
     "output_type": "stream",
     "text": [
      "Loaded as API: https://ysharma-explore-llamav2-with-tgi.hf.space/ ✔\n"
     ]
    },
    {
     "data": {
      "text/plain": [
       "'UnSpot — это программное обеспечение для бронирования, которое позволяет сотрудникам временно бронировать незащищенные места в офисе компании. Оно помогает менеджерам более гибко управлять своими отделами, отслеживать посещаемость сотрудников и снижать расходы на аренду офиса. UnSpot также предоставляет аналитику, позволяющую понять, как сотрудники используют офис и сделать его более привлекательным для них. Программное обеспечение позволяет оптимизировать затраты на аренду офиса и развивать HR-бренд компании. Компания имеет стабильный рост финансовых показателей и значительный потенциал в условиях гибридных форматов работы и коворкинг-офисов.  '"
      ]
     },
     "execution_count": 69,
     "metadata": {},
     "output_type": "execute_result"
    }
   ],
   "source": [
    "def perephrase(base_text):\n",
    "    client = Client(\"https://ysharma-explore-llamav2-with-tgi.hf.space/\")\n",
    "    result = client.predict(\n",
    "\t\t\t\tf\"\"\"return only asked text; please, perephrase this text: - '{get_translation(base_text)}' - return only asked text without special tokens, emojies, quotes and info about number of chars\"\"\",\t\n",
    "\t\t\t\tapi_name=\"/chat\"\n",
    "    )\n",
    "    result = get_translation(result, dest='ru').replace('«', '').replace('»', '').replace('</s>', '').split('(')[0].replace('\\n\\n', ' ')\n",
    "    result = result[result.index(':')+2:].replace('\\'', ' ').replace('\\\"', ' ')\n",
    "    return result\n",
    "\n",
    "perephrase(\"\"\"'Система UnSpot – это программное обеспечение для бронирования, позволяющее сотрудникам временно резервировать для себя любое незакрепленное рабочее место в офисе компании. \\n\\nПО помогает руководителям управлять своими подразделениями более гибко, отслеживать посещаемость работников и снижать расходы на аренду офиса. \\n\\nUnSpot позволяет: оптимизировать расходы на аренду офиса; с помощью предоставляемой аналитики понять, как сотрудники используют офис и сделать его более привлекательным для них; вырастить HR-бренд компании.\\n\\nПреимущества: \\n- компания демонстрирует устойчивый рост финансовых показателей;\\n\\n- компания обладает существенным потенциалом в условиях развития гибридного формата работы, а также обширного распространения офисов типа «коворкинг». \\n'\"\"\")"
   ]
  },
  {
   "cell_type": "markdown",
   "id": "68a78495-9537-4bb4-81a1-c3971b4fa01f",
   "metadata": {},
   "source": [
    "### Letter to the investor"
   ]
  },
  {
   "cell_type": "code",
   "execution_count": 44,
   "id": "1728fd2b-4732-4507-ad82-524f22c27b06",
   "metadata": {},
   "outputs": [
    {
     "data": {
      "text/plain": [
       "'Система UnSpot – это программное обеспечение для бронирования, позволяющее сотрудникам временно резервировать для себя любое незакрепленное рабочее место в офисе компании. \\n\\nПО помогает руководителям управлять своими подразделениями более гибко, отслеживать посещаемость работников и снижать расходы на аренду офиса. \\n\\nUnSpot позволяет: оптимизировать расходы на аренду офиса; с помощью предоставляемой аналитики понять, как сотрудники используют офис и сделать его более привлекательным для них; вырастить HR-бренд компании.\\n\\nПреимущества: \\n- компания демонстрирует устойчивый рост финансовых показателей;\\n\\n- компания обладает существенным потенциалом в условиях развития гибридного формата работы, а также обширного распространения офисов типа «коворкинг». \\n'"
      ]
     },
     "execution_count": 44,
     "metadata": {},
     "output_type": "execute_result"
    }
   ],
   "source": [
    "import pandas as pd\n",
    "sample = pd.read_csv('База стартапов_.csv', sep=';').iloc[0]\n",
    "query = sample['Подробное описание проекта']\n",
    "query"
   ]
  },
  {
   "cell_type": "code",
   "execution_count": 50,
   "id": "97f6d1b2-04c4-4b77-a669-febb43ab931b",
   "metadata": {},
   "outputs": [
    {
     "name": "stdout",
     "output_type": "stream",
     "text": [
      "Loaded as API: https://ysharma-explore-llamav2-with-tgi.hf.space/ ✔\n"
     ]
    },
    {
     "data": {
      "text/plain": [
       "'Здравствуйте, Я пишу, чтобы представить наш стартап UnSpot и пригласить вас инвестировать в наше инновационное программное обеспечение для бронирования. UnSpot призван революционизировать способы бронирования сотрудниками рабочих мест в офисе своей компании, предоставляя гибкое, эффективное и экономичное решение как для менеджеров, так и для сотрудников. Наше программное обеспечение позволяет сотрудникам временно зарезервировать любое незащищенное рабочее место в офисе компании, создавая более гибкую и динамичную рабочую среду. С помощью UnSpot менеджеры могут отслеживать посещаемость сотрудников, оптимизировать расходы на аренду офиса и принимать основанные на данных решения по улучшению офисных помещений. Кроме того, UnSpot помогает развивать HR-бренд компании, демонстрируя стремление к удовлетворению и благополучию сотрудников. В UnSpot мы считаем, что наше программное обеспечение предлагает компаниям значительные преимущества, в том числе: * Устойчивый рост финансовых показателей * Потенциал расширения в рамках гибридных форматов работы и коворкинг-офисов. Мы будем рады более подробно обсудить наше предложение и ответить на любые Ваши вопросы. Спасибо, что выбрали UnSpot'"
      ]
     },
     "execution_count": 50,
     "metadata": {},
     "output_type": "execute_result"
    }
   ],
   "source": [
    "def make_letter_for_investor(query):\n",
    "    client = Client(\"https://ysharma-explore-llamav2-with-tgi.hf.space/\")\n",
    "    result = client.predict(\n",
    "\t\t\t\tf\"\"\"return only \n",
    "    asked text; Please write a letter to the investor to take money on your startup with this description: '{get_translation(query)}' - return only asked text without special tokens, emojies, quotes and info about number of chars\"\"\",\t\n",
    "\t\t\t\tapi_name=\"/chat\"\n",
    "    )\n",
    "    result = ' '.join([x for x in get_translation(result, dest='ru').replace('«', '').replace('»', '').replace('</s>', '').replace('Конечно, вот запрошенная информация:', '').split('(')[0].replace('\\n', ' ').split() if len(x) > 0])\n",
    "    return result.replace('Уважаемый [Имя инвестора]', 'Здравствуйте')\n",
    "\n",
    "make_letter_for_investor(query)"
   ]
  },
  {
   "cell_type": "markdown",
   "id": "7d0b117e-cef7-4925-baf7-1166e2e496d8",
   "metadata": {},
   "source": [
    "### слайды которые нужно добавить, и еще мб что то\n",
    "    \n",
    "    Рынок:\n",
    "    С каждым годом количество смартфонов увеличивается, и потребность в надежных зарядных устройствах растет. EcoCharge Mobile предлагает решение для тех, кто хочет экономить и снижать экологический след, предоставляя долговечное и устойчивое решение.\n",
    "\n",
    "    Объем необходимых инвестиций и куда будут направлены средств:\n",
    "    Необходимая сумма: $500 000.\n",
    "\n",
    "    Производство и материалы: $300 000\n",
    "    Маркетинг и продажи: $100 000\n",
    "    Исследования и разработка: $50 000\n",
    "    Зарплаты и административные расходы: $50 000\n",
    "\n",
    "    Цели проекта, дедлайны:\n",
    "\n",
    "    Запуск производства и первая партия в течение 6 месяцев.\n",
    "    Достижение 10 000 проданных единиц в течение первого года.\n",
    "    Расширение линейки продукции в течение 18 месяцев.\n",
    "\n",
    "    Команда:\n",
    "\n",
    "    Иван Петров, CEO - опыт работы в индустрии мобильных аксессуаров, руководитель отдела продаж.\n",
    "    Елена Смирнова, CTO - специалист по электронике, ранее работала в крупной компании по производству компонентов.\n",
    "    Дмитрий Новиков, CMO - опыт в маркетинге и продвижении технологических продуктов.\n",
    "\n",
    "    Контактная информация:\n",
    "    Адрес: г. Москва, ул. Ленина, д. 5\n",
    "    Телефон: +7 910 123-45-67\n",
    "    Email: info@ecochargemobile.ru"
   ]
  },
  {
   "cell_type": "code",
   "execution_count": null,
   "id": "d349f265-39a9-4bcd-9621-3a94f9735c82",
   "metadata": {},
   "outputs": [],
   "source": []
  }
 ],
 "metadata": {
  "kernelspec": {
   "display_name": "base",
   "language": "python",
   "name": "base"
  },
  "language_info": {
   "codemirror_mode": {
    "name": "ipython",
    "version": 3
   },
   "file_extension": ".py",
   "mimetype": "text/x-python",
   "name": "python",
   "nbconvert_exporter": "python",
   "pygments_lexer": "ipython3",
   "version": "3.11.4"
  }
 },
 "nbformat": 4,
 "nbformat_minor": 5
}
