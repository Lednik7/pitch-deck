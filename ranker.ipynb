{
 "cells": [
  {
   "cell_type": "code",
   "execution_count": null,
   "id": "28fed7f9-9cfb-414d-a68a-29bce09aea0b",
   "metadata": {},
   "outputs": [
    {
     "name": "stderr",
     "output_type": "stream",
     "text": [
      "Some weights of the model checkpoint at cointegrated/LaBSE-en-ru were not used when initializing BertModel: ['cls.predictions.transform.LayerNorm.weight', 'cls.seq_relationship.bias', 'cls.predictions.bias', 'cls.predictions.transform.dense.weight', 'cls.predictions.decoder.bias', 'cls.seq_relationship.weight', 'cls.predictions.transform.LayerNorm.bias', 'cls.predictions.decoder.weight', 'cls.predictions.transform.dense.bias']\n",
      "- This IS expected if you are initializing BertModel from the checkpoint of a model trained on another task or with another architecture (e.g. initializing a BertForSequenceClassification model from a BertForPreTraining model).\n",
      "- This IS NOT expected if you are initializing BertModel from the checkpoint of a model that you expect to be exactly identical (initializing a BertForSequenceClassification model from a BertForSequenceClassification model).\n"
     ]
    }
   ],
   "source": [
    "import numpy as np\n",
    "import pandas as pd\n",
    "from transformers import AutoTokenizer, AutoModel\n",
    "import torch\n",
    "from tqdm.auto import tqdm\n",
    "from torch.nn import CosineSimilarity\n",
    "from collections import Counter\n",
    "\n",
    "data = pd.read_csv(\"База стартапов_.csv\", sep=';')\n",
    "data = data[[x for x in data if 'Unn' not in x]]\n",
    "data = data[~data[\"Рынок\"].isna()]\n",
    "\n",
    "class Embedder:\n",
    "    def __init__(self, model_name=\"cointegrated/LaBSE-en-ru\", batch_size=8):\n",
    "        self.tokenizer = AutoTokenizer.from_pretrained(model_name)\n",
    "        self.model = AutoModel.from_pretrained(model_name)\n",
    "        self.bs = batch_size\n",
    "\n",
    "    def get_emb(self, texts):\n",
    "        res = []\n",
    "        for i in range((len(texts)+self.bs-1)//self.bs):\n",
    "            cur_batch = self.tokenizer(texts[i*self.bs: (i+1)*self.bs], padding=True, truncation=True, max_length=128, return_tensors='pt')\n",
    "            model_output = self.model(**cur_batch)\n",
    "            embeddings = model_output.pooler_output\n",
    "            embeddings = torch.nn.functional.normalize(embeddings)\n",
    "            res += embeddings.tolist()\n",
    "        return res\n",
    "    \n",
    "    def fit(self, df):\n",
    "        texts = [f\"Что делают: {df['Что делают'].iloc[i]}  Подробное описание проекта: {df['Подробное описание проекта'].iloc[i]}\" for i in range(len(df))]\n",
    "        self.df = df.copy()\n",
    "        self.df['embs'] = self.get_emb(texts)\n",
    "        ranks = {'До 100 млн.руб': 2, '100-500 млн.руб.': 1, '500-1000 млн.руб': 0}\n",
    "        self.df['rank'] = [ranks[self.df[' Выручка (млн)'].iloc[i]] for i in range(len(self.df))]\n",
    "        \n",
    "    def __call__(self, text_summary, text_desc, profiles=None):\n",
    "        if isinstance(text_summary, str):\n",
    "            querys = [f\"Что делают: {text_summary}  Подробное описание проекта: {text_desc}\"]\n",
    "            if profiles is not None:\n",
    "                profiles = [profiles]\n",
    "        else:\n",
    "            querys = [f\"Что делают: {text_summary[i]}  Подробное описание проекта: {text_desc[i]}\" for i in range(len(text_desc))]\n",
    "        embs = self.get_emb(querys)\n",
    "        for i in range(len(embs)):\n",
    "            cur_emb = embs[i]\n",
    "            if profiles is not None:\n",
    "                cur_prof = profiles[i]\n",
    "                embs[i] = self.df[self.df['Рынок']==cur_prof].copy()\n",
    "            else:\n",
    "                embs[i] = self.df.copy()\n",
    "            embs[i]['sim'] = CosineSimilarity()(torch.tensor(embs[i]['embs'].tolist()), torch.tensor(cur_emb))\n",
    "            embs[i] = embs[i].sort_values(by='sim', key=lambda x: -x)\n",
    "            embs[i] = embs[i].iloc[:3]\n",
    "            embs[i] = embs[i].sort_values(by='rank', key=lambda x: x)\n",
    "        return embs\n",
    "        \n",
    "\n",
    "model = Embedder()\n",
    "model.fit(data)\n",
    "res = model(data['Что делают'].iloc[0], data['Подробное описание проекта'].iloc[0], data['Рынок'].iloc[0])\n",
    "print(res)"
   ]
  },
  {
   "cell_type": "code",
   "execution_count": null,
   "id": "c4f7ced3-c1b3-4e97-9c6a-ef12e914c67e",
   "metadata": {},
   "outputs": [],
   "source": []
  }
 ],
 "metadata": {
  "kernelspec": {
   "display_name": "Python 3 (ipykernel)",
   "language": "python",
   "name": "python3"
  },
  "language_info": {
   "codemirror_mode": {
    "name": "ipython",
    "version": 3
   },
   "file_extension": ".py",
   "mimetype": "text/x-python",
   "name": "python",
   "nbconvert_exporter": "python",
   "pygments_lexer": "ipython3",
   "version": "3.9.13"
  }
 },
 "nbformat": 4,
 "nbformat_minor": 5
}
